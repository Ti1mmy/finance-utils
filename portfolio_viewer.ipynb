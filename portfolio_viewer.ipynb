{
 "cells": [
  {
   "cell_type": "code",
   "execution_count": 12,
   "id": "6e82f446-1349-460b-944d-18d9ae5b2602",
   "metadata": {},
   "outputs": [],
   "source": [
    "from IPython.display import display, Math, Latex\n",
    "\n",
    "import pandas as pd\n",
    "import yfinance as yf\n",
    "import matplotlib.pyplot as plt"
   ]
  },
  {
   "cell_type": "markdown",
   "id": "6cdd6561-21e5-459f-9eb9-60daa3f3f971",
   "metadata": {},
   "source": [
    "### Quick Portfolio Viewer\n",
    "\n",
    "* Designed to work with portfolios outputted by [my CFM 101 Final Assignment](https://gist.github.com/Ti1mmy/03a35f7816a1a3ba7c00df52d2bf80d0)"
   ]
  },
  {
   "cell_type": "code",
   "execution_count": 13,
   "id": "85ff62fe-44ae-4fb7-86f8-14c17d9dc120",
   "metadata": {},
   "outputs": [],
   "source": [
    "# Read in the potfolio\n",
    "ticker_input = pd.read_csv('Portfolio.csv', header=None, keep_default_na=False) # reads in csv file and stores it\n",
    "ticker_input.drop(0, axis=1, inplace=True)\n",
    "ticker_input.drop(0, axis=0, inplace=True)\n",
    "ticker_input.columns = [\"Ticker\", \"Shares\"]\n",
    "ticker_input.reset_index(inplace=True)\n",
    "ticker_input.drop('index', axis=1, inplace=True)\n",
    "ticker_input.set_index('Ticker', inplace=True)\n",
    "ticker_input_new = ticker_input.T"
   ]
  },
  {
   "cell_type": "code",
   "execution_count": 14,
   "id": "875f477e-30c4-4577-8ef2-5d32885f4a32",
   "metadata": {},
   "outputs": [],
   "source": [
    "portfolio_1mo_hist = pd.DataFrame(ticker_input.index.copy())\n",
    "portfolio_1mo_hist.set_index('Ticker', inplace=True)"
   ]
  },
  {
   "cell_type": "code",
   "execution_count": 15,
   "id": "ca29aff1-98c5-40a6-9e02-c5235b05ec4c",
   "metadata": {},
   "outputs": [
    {
     "name": "stdout",
     "output_type": "stream",
     "text": [
      "[*********************100%***********************]  10 of 10 completed\n"
     ]
    }
   ],
   "source": [
    "ticker_hist = yf.download(\n",
    "                tickers = \" \".join([ticker for ticker in portfolio_1mo_hist.index]),\n",
    "                # Download Data From the past 6 months\n",
    "                period = \"1d\",\n",
    "                interval = \"1d\",\n",
    "                group_by = 'ticker',\n",
    "                threads = True,\n",
    "            )"
   ]
  },
  {
   "cell_type": "code",
   "execution_count": 20,
   "id": "76492fcf-4ae2-4220-9eeb-1d3a5b0bf6b2",
   "metadata": {},
   "outputs": [
    {
     "data": {
      "text/plain": [
       "96170.80012743322"
      ]
     },
     "execution_count": 20,
     "metadata": {},
     "output_type": "execute_result"
    }
   ],
   "source": [
    "portfolio_value = 0\n",
    "for ticker in portfolio_1mo_hist.index:\n",
    "    portfolio_value += float(ticker_input_new[ticker].Shares) * ticker_hist[ticker].Close.iloc[0]\n",
    "portfolio_value"
   ]
  }
 ],
 "metadata": {
  "kernelspec": {
   "display_name": "cfm101",
   "language": "python",
   "name": "cfm101"
  },
  "language_info": {
   "codemirror_mode": {
    "name": "ipython",
    "version": 3
   },
   "file_extension": ".py",
   "mimetype": "text/x-python",
   "name": "python",
   "nbconvert_exporter": "python",
   "pygments_lexer": "ipython3",
   "version": "3.9.7"
  }
 },
 "nbformat": 4,
 "nbformat_minor": 5
}
